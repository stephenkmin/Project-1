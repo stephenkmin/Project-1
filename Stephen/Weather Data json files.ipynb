{
 "cells": [
  {
   "cell_type": "code",
   "execution_count": 1,
   "metadata": {},
   "outputs": [
    {
     "data": {
      "text/html": [
       "<div>\n",
       "<style scoped>\n",
       "    .dataframe tbody tr th:only-of-type {\n",
       "        vertical-align: middle;\n",
       "    }\n",
       "\n",
       "    .dataframe tbody tr th {\n",
       "        vertical-align: top;\n",
       "    }\n",
       "\n",
       "    .dataframe thead th {\n",
       "        text-align: right;\n",
       "    }\n",
       "</style>\n",
       "<table border=\"1\" class=\"dataframe\">\n",
       "  <thead>\n",
       "    <tr style=\"text-align: right;\">\n",
       "      <th></th>\n",
       "      <th>City</th>\n",
       "    </tr>\n",
       "  </thead>\n",
       "  <tbody>\n",
       "    <tr>\n",
       "      <th>0</th>\n",
       "      <td>Boston</td>\n",
       "    </tr>\n",
       "    <tr>\n",
       "      <th>1</th>\n",
       "      <td>Chicago</td>\n",
       "    </tr>\n",
       "    <tr>\n",
       "      <th>2</th>\n",
       "      <td>Cleveland</td>\n",
       "    </tr>\n",
       "    <tr>\n",
       "      <th>3</th>\n",
       "      <td>Denver</td>\n",
       "    </tr>\n",
       "    <tr>\n",
       "      <th>4</th>\n",
       "      <td>Houston</td>\n",
       "    </tr>\n",
       "  </tbody>\n",
       "</table>\n",
       "</div>"
      ],
      "text/plain": [
       "        City\n",
       "0     Boston\n",
       "1    Chicago\n",
       "2  Cleveland\n",
       "3     Denver\n",
       "4    Houston"
      ]
     },
     "execution_count": 1,
     "metadata": {},
     "output_type": "execute_result"
    }
   ],
   "source": [
    "# Dependencies\n",
    "import requests\n",
    "import json\n",
    "import pandas as pd\n",
    "import numpy as np\n",
    "import csv\n",
    "\n",
    "# API key\n",
    "from config import api_key\n",
    "\n",
    "csv_file = r\"C:\\Users\\skm72\\Desktop\\Project Repo\\Project-1\\Cities2019.csv\"\n",
    "top_cities=pd.read_csv(csv_file)\n",
    "top_cities.head()"
   ]
  },
  {
   "cell_type": "code",
   "execution_count": 2,
   "metadata": {},
   "outputs": [],
   "source": [
    "url = \"http://api.worldweatheronline.com/premium/v1/past-weather.ashx\"\n",
    "start_date = \"2019-01-01\"\n",
    "end_date = \"2019-01-31\"\n",
    "target_cities = top_cities[\"City\"]\n",
    "\n",
    "target_cities_request = []\n",
    "\n",
    "# For loop to get the query url for all the target cities for January\n",
    "for cities in target_cities:\n",
    "    response = requests.get(f'{url}?key={api_key}&q={cities}&format=json&date={start_date}&enddate={end_date}').json()\n",
    "    target_cities_request.append(response)"
   ]
  },
  {
   "cell_type": "code",
   "execution_count": 3,
   "metadata": {},
   "outputs": [],
   "source": [
    "with open('Jan.json', 'w') as json_file:\n",
    "    json.dump(target_cities_request, json_file)"
   ]
  },
  {
   "cell_type": "code",
   "execution_count": 5,
   "metadata": {},
   "outputs": [],
   "source": [
    "start_date = \"2019-02-01\"\n",
    "end_date = \"2019-02-28\"\n",
    "target_cities = top_cities[\"City\"]\n",
    "\n",
    "target_cities_request = []\n",
    "\n",
    "# For loop to get the query url for all the target cities for January\n",
    "for cities in target_cities:\n",
    "    response = requests.get(f'{url}?key={api_key}&q={cities}&format=json&date={start_date}&enddate={end_date}').json()\n",
    "    target_cities_request.append(response)"
   ]
  },
  {
   "cell_type": "code",
   "execution_count": 6,
   "metadata": {},
   "outputs": [],
   "source": [
    "with open('Feb.json', 'w') as json_file:\n",
    "    json.dump(target_cities_request, json_file)"
   ]
  },
  {
   "cell_type": "code",
   "execution_count": 7,
   "metadata": {},
   "outputs": [],
   "source": [
    "start_date = \"2019-03-01\"\n",
    "end_date = \"2019-03-31\"\n",
    "target_cities = top_cities[\"City\"]\n",
    "\n",
    "target_cities_request = []\n",
    "\n",
    "# For loop to get the query url for all the target cities for January\n",
    "for cities in target_cities:\n",
    "    response = requests.get(f'{url}?key={api_key}&q={cities}&format=json&date={start_date}&enddate={end_date}').json()\n",
    "    target_cities_request.append(response)"
   ]
  },
  {
   "cell_type": "code",
   "execution_count": 8,
   "metadata": {},
   "outputs": [],
   "source": [
    "with open('Mar.json', 'w') as json_file:\n",
    "    json.dump(target_cities_request, json_file)"
   ]
  },
  {
   "cell_type": "code",
   "execution_count": 9,
   "metadata": {},
   "outputs": [],
   "source": [
    "start_date = \"2019-04-01\"\n",
    "end_date = \"2019-04-30\"\n",
    "target_cities = top_cities[\"City\"]\n",
    "\n",
    "target_cities_request = []\n",
    "\n",
    "# For loop to get the query url for all the target cities for January\n",
    "for cities in target_cities:\n",
    "    response = requests.get(f'{url}?key={api_key}&q={cities}&format=json&date={start_date}&enddate={end_date}').json()\n",
    "    target_cities_request.append(response)"
   ]
  },
  {
   "cell_type": "code",
   "execution_count": 10,
   "metadata": {},
   "outputs": [],
   "source": [
    "with open('Apr.json', 'w') as json_file:\n",
    "    json.dump(target_cities_request, json_file)"
   ]
  },
  {
   "cell_type": "code",
   "execution_count": 11,
   "metadata": {},
   "outputs": [],
   "source": [
    "start_date = \"2019-05-01\"\n",
    "end_date = \"2019-05-31\"\n",
    "target_cities = top_cities[\"City\"]\n",
    "\n",
    "target_cities_request = []\n",
    "\n",
    "# For loop to get the query url for all the target cities for January\n",
    "for cities in target_cities:\n",
    "    response = requests.get(f'{url}?key={api_key}&q={cities}&format=json&date={start_date}&enddate={end_date}').json()\n",
    "    target_cities_request.append(response)"
   ]
  },
  {
   "cell_type": "code",
   "execution_count": 12,
   "metadata": {},
   "outputs": [],
   "source": [
    "with open('May.json', 'w') as json_file:\n",
    "    json.dump(target_cities_request, json_file)"
   ]
  },
  {
   "cell_type": "code",
   "execution_count": 13,
   "metadata": {},
   "outputs": [],
   "source": [
    "start_date = \"2019-06-01\"\n",
    "end_date = \"2019-06-30\"\n",
    "target_cities = top_cities[\"City\"]\n",
    "\n",
    "target_cities_request = []\n",
    "\n",
    "# For loop to get the query url for all the target cities for January\n",
    "for cities in target_cities:\n",
    "    response = requests.get(f'{url}?key={api_key}&q={cities}&format=json&date={start_date}&enddate={end_date}').json()\n",
    "    target_cities_request.append(response)"
   ]
  },
  {
   "cell_type": "code",
   "execution_count": 14,
   "metadata": {},
   "outputs": [],
   "source": [
    "with open('Jun.json', 'w') as json_file:\n",
    "    json.dump(target_cities_request, json_file)"
   ]
  },
  {
   "cell_type": "code",
   "execution_count": 15,
   "metadata": {},
   "outputs": [],
   "source": [
    "start_date = \"2019-07-01\"\n",
    "end_date = \"2019-07-31\"\n",
    "target_cities = top_cities[\"City\"]\n",
    "\n",
    "target_cities_request = []\n",
    "\n",
    "# For loop to get the query url for all the target cities for January\n",
    "for cities in target_cities:\n",
    "    response = requests.get(f'{url}?key={api_key}&q={cities}&format=json&date={start_date}&enddate={end_date}').json()\n",
    "    target_cities_request.append(response)"
   ]
  },
  {
   "cell_type": "code",
   "execution_count": 16,
   "metadata": {},
   "outputs": [],
   "source": [
    "with open('Jul.json', 'w') as json_file:\n",
    "    json.dump(target_cities_request, json_file)"
   ]
  },
  {
   "cell_type": "code",
   "execution_count": 17,
   "metadata": {},
   "outputs": [],
   "source": [
    "start_date = \"2019-08-01\"\n",
    "end_date = \"2019-08-31\"\n",
    "target_cities = top_cities[\"City\"]\n",
    "\n",
    "target_cities_request = []\n",
    "\n",
    "# For loop to get the query url for all the target cities for January\n",
    "for cities in target_cities:\n",
    "    response = requests.get(f'{url}?key={api_key}&q={cities}&format=json&date={start_date}&enddate={end_date}').json()\n",
    "    target_cities_request.append(response)"
   ]
  },
  {
   "cell_type": "code",
   "execution_count": 18,
   "metadata": {},
   "outputs": [],
   "source": [
    "with open('Aug.json', 'w') as json_file:\n",
    "    json.dump(target_cities_request, json_file)"
   ]
  },
  {
   "cell_type": "code",
   "execution_count": 19,
   "metadata": {},
   "outputs": [],
   "source": [
    "start_date = \"2019-09-01\"\n",
    "end_date = \"2019-09-30\"\n",
    "target_cities = top_cities[\"City\"]\n",
    "\n",
    "target_cities_request = []\n",
    "\n",
    "# For loop to get the query url for all the target cities for January\n",
    "for cities in target_cities:\n",
    "    response = requests.get(f'{url}?key={api_key}&q={cities}&format=json&date={start_date}&enddate={end_date}').json()\n",
    "    target_cities_request.append(response)"
   ]
  },
  {
   "cell_type": "code",
   "execution_count": 20,
   "metadata": {},
   "outputs": [],
   "source": [
    "with open('Sep.json', 'w') as json_file:\n",
    "    json.dump(target_cities_request, json_file)"
   ]
  },
  {
   "cell_type": "code",
   "execution_count": 21,
   "metadata": {},
   "outputs": [],
   "source": [
    "start_date = \"2019-10-01\"\n",
    "end_date = \"2019-10-31\"\n",
    "target_cities = top_cities[\"City\"]\n",
    "\n",
    "target_cities_request = []\n",
    "\n",
    "# For loop to get the query url for all the target cities for January\n",
    "for cities in target_cities:\n",
    "    response = requests.get(f'{url}?key={api_key}&q={cities}&format=json&date={start_date}&enddate={end_date}').json()\n",
    "    target_cities_request.append(response)"
   ]
  },
  {
   "cell_type": "code",
   "execution_count": 22,
   "metadata": {},
   "outputs": [],
   "source": [
    "with open('Oct.json', 'w') as json_file:\n",
    "    json.dump(target_cities_request, json_file)"
   ]
  },
  {
   "cell_type": "code",
   "execution_count": 23,
   "metadata": {},
   "outputs": [],
   "source": [
    "start_date = \"2019-11-01\"\n",
    "end_date = \"2019-11-30\"\n",
    "target_cities = top_cities[\"City\"]\n",
    "\n",
    "target_cities_request = []\n",
    "\n",
    "# For loop to get the query url for all the target cities for January\n",
    "for cities in target_cities:\n",
    "    response = requests.get(f'{url}?key={api_key}&q={cities}&format=json&date={start_date}&enddate={end_date}').json()\n",
    "    target_cities_request.append(response)"
   ]
  },
  {
   "cell_type": "code",
   "execution_count": 24,
   "metadata": {},
   "outputs": [],
   "source": [
    "with open('Nov.json', 'w') as json_file:\n",
    "    json.dump(target_cities_request, json_file)"
   ]
  },
  {
   "cell_type": "code",
   "execution_count": 25,
   "metadata": {},
   "outputs": [],
   "source": [
    "start_date = \"2019-12-01\"\n",
    "end_date = \"2019-12-31\"\n",
    "target_cities = top_cities[\"City\"]\n",
    "\n",
    "target_cities_request = []\n",
    "\n",
    "# For loop to get the query url for all the target cities for January\n",
    "for cities in target_cities:\n",
    "    response = requests.get(f'{url}?key={api_key}&q={cities}&format=json&date={start_date}&enddate={end_date}').json()\n",
    "    target_cities_request.append(response)"
   ]
  },
  {
   "cell_type": "code",
   "execution_count": 26,
   "metadata": {},
   "outputs": [],
   "source": [
    "with open('Dec.json', 'w') as json_file:\n",
    "    json.dump(target_cities_request, json_file)"
   ]
  },
  {
   "cell_type": "code",
   "execution_count": null,
   "metadata": {},
   "outputs": [],
   "source": []
  }
 ],
 "metadata": {
  "kernelspec": {
   "display_name": "Python 3",
   "language": "python",
   "name": "python3"
  },
  "language_info": {
   "codemirror_mode": {
    "name": "ipython",
    "version": 3
   },
   "file_extension": ".py",
   "mimetype": "text/x-python",
   "name": "python",
   "nbconvert_exporter": "python",
   "pygments_lexer": "ipython3",
   "version": "3.7.6"
  }
 },
 "nbformat": 4,
 "nbformat_minor": 2
}
